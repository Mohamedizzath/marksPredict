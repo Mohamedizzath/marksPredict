{
  "nbformat": 4,
  "nbformat_minor": 0,
  "metadata": {
    "colab": {
      "name": "marks_predict.ipynb",
      "provenance": [],
      "authorship_tag": "ABX9TyMlptQ/UPlHfIuOD1AViT0q",
      "include_colab_link": true
    },
    "kernelspec": {
      "name": "python3",
      "display_name": "Python 3"
    },
    "language_info": {
      "name": "python"
    }
  },
  "cells": [
    {
      "cell_type": "markdown",
      "metadata": {
        "id": "view-in-github",
        "colab_type": "text"
      },
      "source": [
        "<a href=\"https://colab.research.google.com/github/Mohamedizzath/marksPredict/blob/main/marks_predict.ipynb\" target=\"_parent\"><img src=\"https://colab.research.google.com/assets/colab-badge.svg\" alt=\"Open In Colab\"/></a>"
      ]
    },
    {
      "cell_type": "code",
      "metadata": {
        "id": "B3F-nzc23dUD"
      },
      "source": [
        "#inport usefull libraries\n",
        "import pandas as pd\n",
        "import numpy as np\n",
        "import matplotlib.pyplot as plt"
      ],
      "execution_count": null,
      "outputs": []
    },
    {
      "cell_type": "markdown",
      "metadata": {
        "id": "aIofoKcV6Xa4"
      },
      "source": [
        "## Step 1: Load marks data from csv file in the github Repo\n",
        " \n",
        "In this we load the data from the github repo and trun it into a two dimensional array"
      ]
    },
    {
      "cell_type": "code",
      "metadata": {
        "id": "CNi5vqEM5MMh"
      },
      "source": [
        "url = \"https://raw.githubusercontent.com/Mohamedizzath/marksPredict/main/student_scores.csv\""
      ],
      "execution_count": null,
      "outputs": []
    },
    {
      "cell_type": "code",
      "metadata": {
        "colab": {
          "base_uri": "https://localhost:8080/",
          "height": 269
        },
        "id": "aDsEyan96HNo",
        "outputId": "08aac574-2f89-402c-95e1-08e985d0d86f"
      },
      "source": [
        "marks_data = pd.read_csv(url)\n",
        "marks_data.head(7)"
      ],
      "execution_count": null,
      "outputs": [
        {
          "output_type": "execute_result",
          "data": {
            "text/html": [
              "<div>\n",
              "<style scoped>\n",
              "    .dataframe tbody tr th:only-of-type {\n",
              "        vertical-align: middle;\n",
              "    }\n",
              "\n",
              "    .dataframe tbody tr th {\n",
              "        vertical-align: top;\n",
              "    }\n",
              "\n",
              "    .dataframe thead th {\n",
              "        text-align: right;\n",
              "    }\n",
              "</style>\n",
              "<table border=\"1\" class=\"dataframe\">\n",
              "  <thead>\n",
              "    <tr style=\"text-align: right;\">\n",
              "      <th></th>\n",
              "      <th>Hours</th>\n",
              "      <th>Scores</th>\n",
              "    </tr>\n",
              "  </thead>\n",
              "  <tbody>\n",
              "    <tr>\n",
              "      <th>0</th>\n",
              "      <td>2.5</td>\n",
              "      <td>21</td>\n",
              "    </tr>\n",
              "    <tr>\n",
              "      <th>1</th>\n",
              "      <td>5.1</td>\n",
              "      <td>47</td>\n",
              "    </tr>\n",
              "    <tr>\n",
              "      <th>2</th>\n",
              "      <td>3.2</td>\n",
              "      <td>27</td>\n",
              "    </tr>\n",
              "    <tr>\n",
              "      <th>3</th>\n",
              "      <td>8.5</td>\n",
              "      <td>75</td>\n",
              "    </tr>\n",
              "    <tr>\n",
              "      <th>4</th>\n",
              "      <td>3.5</td>\n",
              "      <td>30</td>\n",
              "    </tr>\n",
              "    <tr>\n",
              "      <th>5</th>\n",
              "      <td>1.5</td>\n",
              "      <td>20</td>\n",
              "    </tr>\n",
              "    <tr>\n",
              "      <th>6</th>\n",
              "      <td>9.2</td>\n",
              "      <td>88</td>\n",
              "    </tr>\n",
              "  </tbody>\n",
              "</table>\n",
              "</div>"
            ],
            "text/plain": [
              "   Hours  Scores\n",
              "0    2.5      21\n",
              "1    5.1      47\n",
              "2    3.2      27\n",
              "3    8.5      75\n",
              "4    3.5      30\n",
              "5    1.5      20\n",
              "6    9.2      88"
            ]
          },
          "metadata": {
            "tags": []
          },
          "execution_count": 6
        }
      ]
    },
    {
      "cell_type": "markdown",
      "metadata": {
        "id": "Xj_HoWRQ7W5t"
      },
      "source": [
        "## Step 2: Plot the graph \n",
        "\n",
        "Then plotter the graph according to the data given\n",
        "\n",
        "x axis will be Hours\n",
        "\n",
        "y axis will be scores"
      ]
    },
    {
      "cell_type": "code",
      "metadata": {
        "colab": {
          "base_uri": "https://localhost:8080/",
          "height": 313
        },
        "id": "UgsvVmTv7apu",
        "outputId": "d27aac77-3ce1-4814-fa16-8c79dab2483f"
      },
      "source": [
        "plt.scatter(data=marks_data, x=\"Hours\", y=\"Scores\")\n",
        "plt.xlabel(\"Hours\")\n",
        "plt.ylabel(\"Scores\")\n",
        "plt.title(\"Hours vs Scores\")"
      ],
      "execution_count": null,
      "outputs": [
        {
          "output_type": "execute_result",
          "data": {
            "text/plain": [
              "Text(0.5, 1.0, 'Hours vs Scores')"
            ]
          },
          "metadata": {
            "tags": []
          },
          "execution_count": 7
        },
        {
          "output_type": "display_data",
          "data": {
            "image/png": "[encoded data removed]",
            "text/plain": [
              "<Figure size 432x288 with 1 Axes>"
            ]
          },
          "metadata": {
            "tags": [],
            "needs_background": "light"
          }
        }
      ]
    },
    {
      "cell_type": "code",
      "metadata": {
        "id": "Qxey9wil8WIM"
      },
      "source": [
        "X = marks_data[\"Hours\"]\n",
        "y = marks_data[\"Scores\"]"
      ],
      "execution_count": null,
      "outputs": []
    },
    {
      "cell_type": "markdown",
      "metadata": {
        "id": "Ji4XdjHn8S75"
      },
      "source": [
        "## Step 3: Split data\n",
        "\n",
        "Split data into two parts\n",
        "1.   Train data\n",
        "2.   Test data\n",
        "\n"
      ]
    },
    {
      "cell_type": "code",
      "metadata": {
        "id": "rD7Q4xLu8pp6"
      },
      "source": [
        "from sklearn.model_selection import train_test_split\n",
        "X_train, X_test, y_train, y_test = train_test_split(X.values.reshape(-1, 1), y)"
      ],
      "execution_count": null,
      "outputs": []
    },
    {
      "cell_type": "markdown",
      "metadata": {
        "id": "VEKo8yvZ8-4M"
      },
      "source": [
        "## Step 4: Train Model\n",
        "\n",
        "Train model according to the training data"
      ]
    },
    {
      "cell_type": "code",
      "metadata": {
        "id": "_l0U9r7v9IbI"
      },
      "source": [
        "from sklearn.linear_model import LinearRegression\n",
        "marks_model = LinearRegression().fit(X_train, y_train)"
      ],
      "execution_count": null,
      "outputs": []
    },
    {
      "cell_type": "markdown",
      "metadata": {
        "id": "VkjcuJhd9wYh"
      },
      "source": [
        "## Step 5: Plot model\n",
        "\n",
        "Plot the graph using the train model using linear regression"
      ]
    },
    {
      "cell_type": "code",
      "metadata": {
        "id": "TOyUL1Rm90ho",
        "colab": {
          "base_uri": "https://localhost:8080/",
          "height": 313
        },
        "outputId": "7ebbb723-b358-41be-cce0-1540906e4483"
      },
      "source": [
        "plt.scatter(X_train, y_train, color=\"green\")\n",
        "plt.plot(X_train, marks_model.predict(X_train), color=\"red\")\n",
        "plt.xlabel(\"Hours\")\n",
        "plt.ylabel(\"Scores\")\n",
        "plt.title(\"Hours vs Scores\")"
      ],
      "execution_count": null,
      "outputs": [
        {
          "output_type": "execute_result",
          "data": {
            "text/plain": [
              "Text(0.5, 1.0, 'Hours vs Scores')"
            ]
          },
          "metadata": {
            "tags": []
          },
          "execution_count": 12
        },
        {
          "output_type": "display_data",
          "data": {
            "image/png": "[encoded data removed]",
            "text/plain": [
              "<Figure size 432x288 with 1 Axes>"
            ]
          },
          "metadata": {
            "tags": [],
            "needs_background": "light"
          }
        }
      ]
    },
    {
      "cell_type": "markdown",
      "metadata": {
        "id": "3Y-VAogX-gPV"
      },
      "source": [
        "## Step 6: Make prediction"
      ]
    },
    {
      "cell_type": "code",
      "metadata": {
        "id": "peDFLXDf-i8j",
        "colab": {
          "base_uri": "https://localhost:8080/"
        },
        "outputId": "c04ff4e4-c511-4bb1-b078-5d128f87558d"
      },
      "source": [
        "result = marks_model.predict([[4.8]])[0]\n",
        "result"
      ],
      "execution_count": null,
      "outputs": [
        {
          "output_type": "execute_result",
          "data": {
            "text/plain": [
              "48.67609784318334"
            ]
          },
          "metadata": {
            "tags": []
          },
          "execution_count": 14
        }
      ]
    }
  ]
}